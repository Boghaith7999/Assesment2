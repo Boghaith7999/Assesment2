{
 "cells": [
  {
   "cell_type": "markdown",
   "metadata": {},
   "source": [
    "# OCOM510M Data Science: Assessment 2"
   ]
  },
  {
   "cell_type": "markdown",
   "metadata": {},
   "source": [
    "Student ID: tpqw3055\n"
   ]
  },
  {
   "cell_type": "markdown",
   "metadata": {},
   "source": [
    "## 1. Aims, objectives and plan\n",
    "The aim of the project is to help the insurance company to predict which claims are probably fradulent by training an Machine Learning models using previus data collected with a low and balanced error rate.\n",
    "This model can significantly helps the company to reduce the finanantial losses caused by fraud while minimizing customer dissatisfaction from incorrect referrals.\n",
    "To achive this aim there are sertin stages to go through.\n",
    "\n",
    "\n",
    "1:Exploring the datasets and geting breif idea what it has and what are relaive to the output and what are not.\n",
    "2: Preprossing the dataset which makes the data more clear and modify it in a way that the ML model can traind by it. \n",
    "The preprosseing includes renaming, grouping and removing the data.\n",
    "3: chose the best models to be traind on .\n",
    "4:Evaluate the models and sees ther accuricy and performance\n",
    "5 : Sees the busniss impact and how this model can inhance the agancies\n",
    "6: simplw conclosion and what improvments can be done\n",
    "\n"
   ]
  },
  {
   "cell_type": "markdown",
   "metadata": {},
   "source": []
  },
  {
   "cell_type": "markdown",
   "metadata": {},
   "source": [
    "## 2. Understanding the case study"
   ]
  },
  {
   "cell_type": "markdown",
   "metadata": {},
   "source": [
    "During the analysis of the insurance fraud dataset, several key issues and insights were identified. These are critical to address in order to build an effective machine learning model that meets the client’s needs of reducing fraud-related financial losses while maintaining customer satisfaction.\n",
    "\n",
    "Missing and Inconsistent Data:\n",
    "Several columns, including PoliceReportFiled and CollisionType, had missing or unclear values. To handle this, missing values will be filled using appropriate techniques such as imputation with the most frequent value or introducing a new category like \"Unknown\" to retain useful records.\n",
    "\n",
    "Imbalanced Classes:\n",
    "The dataset contains a significantly lower number of fraudulent claims compared to non-fraudulent ones. To ensure fair model training and avoid bias, we plan to apply resampling methods such as SMOTE (Synthetic Minority Oversampling Technique) or adjust class weights in algorithms.\n",
    "\n",
    "Categorical Feature Encoding:\n",
    "Many important columns such as VehicleMake, TypeOfIncident, and InsuredGender are categorical. These will be encoded using One-Hot Encoding or Label Encoding depending on whether the values are nominal or ordinal.\n",
    "\n",
    "Complex and Mixed Data Types:\n",
    "Some fields, like Policy_CombinedSingleLimit, contain values in the format “100/300”, which are not directly usable. These values will be split into separate numeric fields for better processing.\n",
    "\n",
    "Correlated or Redundant Features:\n",
    "Preliminary correlation analysis showed some features may be redundant. We will eliminate or combine those to reduce noise and improve model performance.\n",
    "\n",
    "These actions form the basis of our preprocessing strategy and ensure that the machine learning models are built on a clean, balanced, and interpretable dataset—ultimately supporting the client's goal of effective fraud detection."
   ]
  },
  {
   "cell_type": "markdown",
   "metadata": {},
   "source": [
    "###  Case study analysis\n",
    "During the exploration of the insurance fraud dataset, many isues and insights has been found.These issues should be fixed and identified to get a good and efficient ML model.\n",
    "\n",
    "1. The datasets has many unrelated features such as client hobies that can affects the modle accuricy. \n",
    "\n",
    "1. \n",
    "1. \n",
    "1. \n",
    "\n"
   ]
  },
  {
   "cell_type": "markdown",
   "metadata": {},
   "source": [
    "## 3. Pre-processing applied"
   ]
  },
  {
   "cell_type": "markdown",
   "metadata": {},
   "source": [
    "### Importing needed libraries and files"
   ]
  },
  {
   "cell_type": "markdown",
   "metadata": {},
   "source": [
    "Import Libraries"
   ]
  },
  {
   "cell_type": "code",
   "execution_count": 195,
   "metadata": {},
   "outputs": [],
   "source": [
    "#import the libraries\n",
    "# For data manipulation\n",
    "import pandas as pd\n",
    "import numpy as np\n",
    "\n",
    "# For data visualization\n",
    "import matplotlib.pyplot as plt"
   ]
  },
  {
   "cell_type": "markdown",
   "metadata": {},
   "source": [
    "Import Datasets by pandas "
   ]
  },
  {
   "cell_type": "code",
   "execution_count": 238,
   "metadata": {},
   "outputs": [],
   "source": [
    "# Import the datasets\n",
    "\n",
    "Train_Claim = pd.read_csv(r'D:\\Users\\ahmed.aldarmaki\\Downloads\\AssesmentFolder\\archive\\TrainData\\TrainData\\Train_Claim.csv')\n",
    "Train_Demographics = pd.read_csv(r'archive\\TrainData\\TrainData\\Train_Demographics.csv')\n",
    "Train_Policy = pd.read_csv(r'archive\\TrainData\\TrainData\\Train_Policy.csv')\n",
    "Train_Vehicle = pd.read_csv(r'archive\\TrainData\\TrainData\\Train_Vehicle.csv')\n",
    "Traindata_with_Target = pd.read_csv(r'archive\\TrainData\\TrainData\\Traindata_with_Target.csv')\n",
    "Traindata_withoutTarget = pd.read_csv(r'archive\\TrainData\\TrainData\\Traindata_withoutTarget.csv')"
   ]
  },
  {
   "cell_type": "markdown",
   "metadata": {},
   "source": [
    "Check if there are mismatching between number of customurs in each dataset"
   ]
  },
  {
   "cell_type": "code",
   "execution_count": 197,
   "metadata": {},
   "outputs": [
    {
     "name": "stdout",
     "output_type": "stream",
     "text": [
      "Demographics: 28836\n",
      "Policy: 28836\n",
      "Claim: 28836\n",
      "Train_Vehicle: 115344\n",
      "with_Target: 28836\n",
      "withoutTarget: 28836\n"
     ]
    }
   ],
   "source": [
    "print(\"Demographics:\",Train_Demographics.shape[0])  \n",
    "print(\"Policy:\",Train_Policy.shape[0])\n",
    "print(\"Claim:\",Train_Claim.shape[0])  \n",
    "print(\"Train_Vehicle:\",Train_Vehicle.shape[0]) \n",
    "print(\"with_Target:\",Traindata_with_Target.shape[0])  \n",
    "print(\"withoutTarget:\",Traindata_withoutTarget.shape[0])  \n"
   ]
  },
  {
   "cell_type": "markdown",
   "metadata": {},
   "source": [
    "### Pivoting Data to split the features \n"
   ]
  },
  {
   "cell_type": "code",
   "execution_count": 198,
   "metadata": {},
   "outputs": [],
   "source": [
    "Train_Vehicle = Train_Vehicle.pivot(index='CustomerID', \n",
    "                      columns='VehicleAttribute', \n",
    "                      values='VehicleAttributeDetails').reset_index()"
   ]
  },
  {
   "cell_type": "code",
   "execution_count": 199,
   "metadata": {},
   "outputs": [
    {
     "data": {
      "text/plain": [
       "28836"
      ]
     },
     "execution_count": 199,
     "metadata": {},
     "output_type": "execute_result"
    }
   ],
   "source": [
    "\n",
    "# Then I will check if the IDs matches the other data\n",
    "Train_Vehicle.shape[0]"
   ]
  },
  {
   "cell_type": "markdown",
   "metadata": {},
   "source": [
    "#### Not Important but usefull to get observation of the dataframe "
   ]
  },
  {
   "cell_type": "code",
   "execution_count": 200,
   "metadata": {},
   "outputs": [
    {
     "data": {
      "text/plain": [
       "VehicleMake\n",
       "Saab          2415\n",
       "Suburu        2313\n",
       "Nissan        2300\n",
       "Dodge         2263\n",
       "Chevrolet     2174\n",
       "Ford          2158\n",
       "Accura        2099\n",
       "BMW           2073\n",
       "Toyota        1981\n",
       "Volkswagen    1960\n",
       "Audi          1952\n",
       "Jeep          1946\n",
       "Mercedes      1659\n",
       "Honda         1493\n",
       "???             50\n",
       "Name: count, dtype: int64"
      ]
     },
     "execution_count": 200,
     "metadata": {},
     "output_type": "execute_result"
    }
   ],
   "source": [
    "\n",
    "Train_Vehicle[\"VehicleMake\"].value_counts()"
   ]
  },
  {
   "cell_type": "code",
   "execution_count": 201,
   "metadata": {},
   "outputs": [
    {
     "data": {
      "text/plain": [
       "VehicleModel\n",
       "RAM               1344\n",
       "Wrangler          1261\n",
       "A3                1102\n",
       "MDX               1054\n",
       "Jetta             1037\n",
       "Neon               928\n",
       "Pathfinder         919\n",
       "Passat             888\n",
       "Legacy             887\n",
       "92x                859\n",
       "Malibu             828\n",
       "95                 820\n",
       "A5                 812\n",
       "F150               797\n",
       "Forrestor          784\n",
       "Camry              771\n",
       "Tahoe              736\n",
       "93                 724\n",
       "Maxima             722\n",
       "Grand Cherokee     718\n",
       "Escape             706\n",
       "Ultima             698\n",
       "E400               695\n",
       "X5                 691\n",
       "TL                 684\n",
       "Silverado          668\n",
       "Fusion             650\n",
       "Highlander         633\n",
       "Civic              604\n",
       "ML350              599\n",
       "Impreza            562\n",
       "CRV                542\n",
       "Corolla            530\n",
       "M5                 509\n",
       "C300               477\n",
       "X6                 454\n",
       "3 Series           436\n",
       "RSX                397\n",
       "Accord             310\n",
       "Name: count, dtype: int64"
      ]
     },
     "execution_count": 201,
     "metadata": {},
     "output_type": "execute_result"
    }
   ],
   "source": [
    "Train_Vehicle[\"VehicleModel\"].value_counts()"
   ]
  },
  {
   "cell_type": "code",
   "execution_count": 202,
   "metadata": {},
   "outputs": [
    {
     "data": {
      "text/plain": [
       "VehicleYOM\n",
       "2007    1730\n",
       "2004    1691\n",
       "2010    1686\n",
       "2006    1680\n",
       "2008    1655\n",
       "2009    1655\n",
       "2005    1653\n",
       "2003    1606\n",
       "2011    1581\n",
       "2002    1551\n",
       "2000    1548\n",
       "1999    1521\n",
       "2001    1458\n",
       "2012    1357\n",
       "1998    1319\n",
       "2013    1271\n",
       "1997    1151\n",
       "2014     889\n",
       "1996     851\n",
       "1995     555\n",
       "2015     428\n",
       "Name: count, dtype: int64"
      ]
     },
     "execution_count": 202,
     "metadata": {},
     "output_type": "execute_result"
    }
   ],
   "source": [
    "Train_Vehicle[\"VehicleYOM\"].value_counts()"
   ]
  },
  {
   "cell_type": "markdown",
   "metadata": {},
   "source": [
    "### Merging the data and make the customer ID as index"
   ]
  },
  {
   "cell_type": "code",
   "execution_count": 203,
   "metadata": {},
   "outputs": [
    {
     "name": "stdout",
     "output_type": "stream",
     "text": [
      "Final merged data shape: (28836, 42)\n"
     ]
    }
   ],
   "source": [
    "# Merge Demographics + Policy\n",
    "merged_df = pd.merge(Train_Demographics, Train_Policy, on='CustomerID', how='inner')\n",
    "\n",
    "# Merge result with Claim\n",
    "merged_df = pd.merge(merged_df, Train_Claim, on='CustomerID', how='inner')\n",
    "\n",
    "# Merge result with Claim\n",
    "merged_df = pd.merge(merged_df, Train_Vehicle, on='CustomerID', how='inner')\n",
    "# Final merge with target data (ReportedFraud)\n",
    "final_data = pd.merge(merged_df, Traindata_with_Target[['CustomerID', 'ReportedFraud']], on='CustomerID', how='inner')\n",
    "\n",
    "# Show final shape\n",
    "print(\"Final merged data shape:\", final_data.shape)\n"
   ]
  },
  {
   "cell_type": "code",
   "execution_count": 204,
   "metadata": {},
   "outputs": [
    {
     "name": "stdout",
     "output_type": "stream",
     "text": [
      "Index(['CustomerID', 'ReportedFraud'], dtype='object')\n",
      "Index(['InsurancePolicyNumber', 'CustomerLoyaltyPeriod', 'DateOfPolicyCoverage', 'InsurancePolicyState', 'Policy_CombinedSingleLimit', 'Policy_Deductible', 'PolicyAnnualPremium', 'UmbrellaLimit', 'InsuredRelationship', 'CustomerID'], dtype='object')\n",
      "Index(['CustomerID', 'DateOfIncident', 'TypeOfIncident', 'TypeOfCollission', 'SeverityOfIncident', 'AuthoritiesContacted', 'IncidentState', 'IncidentCity', 'IncidentAddress', 'IncidentTime', 'NumberOfVehicles', 'PropertyDamage', 'BodilyInjuries', 'Witnesses', 'PoliceReport', 'AmountOfTotalClaim', 'AmountOfInjuryClaim', 'AmountOfPropertyClaim', 'AmountOfVehicleDamage'], dtype='object')\n",
      "Index(['CustomerID', 'ReportedFraud'], dtype='object')\n",
      "Index(['CustomerID', 'VehicleID', 'VehicleMake', 'VehicleModel', 'VehicleYOM'], dtype='object', name='VehicleAttribute')\n"
     ]
    }
   ],
   "source": [
    "print(Traindata_with_Target.columns)\n",
    "print(Train_Policy.columns)\n",
    "print(Train_Claim.columns)\n",
    "print(Traindata_with_Target.columns)\n",
    "print(Train_Vehicle.columns)\n"
   ]
  },
  {
   "cell_type": "markdown",
   "metadata": {},
   "source": [
    "### Deleting Uessesary Factours (feature selection)\n"
   ]
  },
  {
   "cell_type": "markdown",
   "metadata": {},
   "source": [
    "These couloms seems to be unreleated to the output \n"
   ]
  },
  {
   "cell_type": "code",
   "execution_count": 205,
   "metadata": {},
   "outputs": [],
   "source": [
    "columns_to_drop = [\n",
    "    \"CustomerID\",\n",
    "    \"VehicleID\",\n",
    "    'InsuredZipCode',\n",
    "    'InsurancePolicyNumber',\n",
    "    'InsuredEducationLevel',\n",
    "    'InsuredOccupation',\n",
    "    'InsuredHobbies',\n",
    "    'Country'\n",
    "]"
   ]
  },
  {
   "cell_type": "code",
   "execution_count": 206,
   "metadata": {},
   "outputs": [],
   "source": [
    "final_data = final_data.drop(columns=columns_to_drop)"
   ]
  },
  {
   "cell_type": "code",
   "execution_count": 207,
   "metadata": {},
   "outputs": [
    {
     "data": {
      "text/html": [
       "<div>\n",
       "<style scoped>\n",
       "    .dataframe tbody tr th:only-of-type {\n",
       "        vertical-align: middle;\n",
       "    }\n",
       "\n",
       "    .dataframe tbody tr th {\n",
       "        vertical-align: top;\n",
       "    }\n",
       "\n",
       "    .dataframe thead th {\n",
       "        text-align: right;\n",
       "    }\n",
       "</style>\n",
       "<table border=\"1\" class=\"dataframe\">\n",
       "  <thead>\n",
       "    <tr style=\"text-align: right;\">\n",
       "      <th></th>\n",
       "      <th>InsuredAge</th>\n",
       "      <th>InsuredGender</th>\n",
       "      <th>CapitalGains</th>\n",
       "      <th>CapitalLoss</th>\n",
       "      <th>CustomerLoyaltyPeriod</th>\n",
       "      <th>DateOfPolicyCoverage</th>\n",
       "      <th>InsurancePolicyState</th>\n",
       "      <th>Policy_CombinedSingleLimit</th>\n",
       "      <th>Policy_Deductible</th>\n",
       "      <th>PolicyAnnualPremium</th>\n",
       "      <th>UmbrellaLimit</th>\n",
       "      <th>InsuredRelationship</th>\n",
       "      <th>DateOfIncident</th>\n",
       "      <th>TypeOfIncident</th>\n",
       "      <th>TypeOfCollission</th>\n",
       "      <th>SeverityOfIncident</th>\n",
       "      <th>AuthoritiesContacted</th>\n",
       "      <th>IncidentState</th>\n",
       "      <th>IncidentCity</th>\n",
       "      <th>IncidentAddress</th>\n",
       "      <th>IncidentTime</th>\n",
       "      <th>NumberOfVehicles</th>\n",
       "      <th>PropertyDamage</th>\n",
       "      <th>BodilyInjuries</th>\n",
       "      <th>Witnesses</th>\n",
       "      <th>PoliceReport</th>\n",
       "      <th>AmountOfTotalClaim</th>\n",
       "      <th>AmountOfInjuryClaim</th>\n",
       "      <th>AmountOfPropertyClaim</th>\n",
       "      <th>AmountOfVehicleDamage</th>\n",
       "      <th>VehicleMake</th>\n",
       "      <th>VehicleModel</th>\n",
       "      <th>VehicleYOM</th>\n",
       "      <th>ReportedFraud</th>\n",
       "    </tr>\n",
       "  </thead>\n",
       "  <tbody>\n",
       "    <tr>\n",
       "      <th>0</th>\n",
       "      <td>35</td>\n",
       "      <td>MALE</td>\n",
       "      <td>56700</td>\n",
       "      <td>-48500</td>\n",
       "      <td>49</td>\n",
       "      <td>1998-10-25</td>\n",
       "      <td>State1</td>\n",
       "      <td>100/300</td>\n",
       "      <td>1000</td>\n",
       "      <td>1632.73</td>\n",
       "      <td>0</td>\n",
       "      <td>not-in-family</td>\n",
       "      <td>2015-02-03</td>\n",
       "      <td>Multi-vehicle Collision</td>\n",
       "      <td>Side Collision</td>\n",
       "      <td>Total Loss</td>\n",
       "      <td>Police</td>\n",
       "      <td>State7</td>\n",
       "      <td>City1</td>\n",
       "      <td>Location 1311</td>\n",
       "      <td>17</td>\n",
       "      <td>3</td>\n",
       "      <td>?</td>\n",
       "      <td>1</td>\n",
       "      <td>0</td>\n",
       "      <td>?</td>\n",
       "      <td>65501</td>\n",
       "      <td>13417</td>\n",
       "      <td>6071</td>\n",
       "      <td>46013</td>\n",
       "      <td>Audi</td>\n",
       "      <td>A5</td>\n",
       "      <td>2008</td>\n",
       "      <td>N</td>\n",
       "    </tr>\n",
       "    <tr>\n",
       "      <th>1</th>\n",
       "      <td>36</td>\n",
       "      <td>MALE</td>\n",
       "      <td>70600</td>\n",
       "      <td>-48500</td>\n",
       "      <td>114</td>\n",
       "      <td>2000-11-15</td>\n",
       "      <td>State1</td>\n",
       "      <td>100/300</td>\n",
       "      <td>1000</td>\n",
       "      <td>1255.19</td>\n",
       "      <td>0</td>\n",
       "      <td>not-in-family</td>\n",
       "      <td>2015-02-02</td>\n",
       "      <td>Multi-vehicle Collision</td>\n",
       "      <td>Side Collision</td>\n",
       "      <td>Total Loss</td>\n",
       "      <td>Police</td>\n",
       "      <td>State7</td>\n",
       "      <td>City5</td>\n",
       "      <td>Location 1311</td>\n",
       "      <td>10</td>\n",
       "      <td>3</td>\n",
       "      <td>YES</td>\n",
       "      <td>2</td>\n",
       "      <td>1</td>\n",
       "      <td>YES</td>\n",
       "      <td>61382</td>\n",
       "      <td>15560</td>\n",
       "      <td>5919</td>\n",
       "      <td>39903</td>\n",
       "      <td>Audi</td>\n",
       "      <td>A5</td>\n",
       "      <td>2006</td>\n",
       "      <td>N</td>\n",
       "    </tr>\n",
       "    <tr>\n",
       "      <th>2</th>\n",
       "      <td>33</td>\n",
       "      <td>MALE</td>\n",
       "      <td>66400</td>\n",
       "      <td>-63700</td>\n",
       "      <td>167</td>\n",
       "      <td>2001-02-12</td>\n",
       "      <td>State3</td>\n",
       "      <td>500/1000</td>\n",
       "      <td>617</td>\n",
       "      <td>1373.38</td>\n",
       "      <td>0</td>\n",
       "      <td>wife</td>\n",
       "      <td>2015-01-15</td>\n",
       "      <td>Single Vehicle Collision</td>\n",
       "      <td>Side Collision</td>\n",
       "      <td>Minor Damage</td>\n",
       "      <td>Other</td>\n",
       "      <td>State8</td>\n",
       "      <td>City6</td>\n",
       "      <td>Location 2081</td>\n",
       "      <td>22</td>\n",
       "      <td>1</td>\n",
       "      <td>YES</td>\n",
       "      <td>2</td>\n",
       "      <td>3</td>\n",
       "      <td>NO</td>\n",
       "      <td>66755</td>\n",
       "      <td>11630</td>\n",
       "      <td>11630</td>\n",
       "      <td>43495</td>\n",
       "      <td>Volkswagen</td>\n",
       "      <td>Jetta</td>\n",
       "      <td>1999</td>\n",
       "      <td>N</td>\n",
       "    </tr>\n",
       "    <tr>\n",
       "      <th>3</th>\n",
       "      <td>36</td>\n",
       "      <td>MALE</td>\n",
       "      <td>47900</td>\n",
       "      <td>-73400</td>\n",
       "      <td>190</td>\n",
       "      <td>2005-04-11</td>\n",
       "      <td>State2</td>\n",
       "      <td>500/1000</td>\n",
       "      <td>722</td>\n",
       "      <td>1337.60</td>\n",
       "      <td>0</td>\n",
       "      <td>own-child</td>\n",
       "      <td>2015-01-19</td>\n",
       "      <td>Single Vehicle Collision</td>\n",
       "      <td>Side Collision</td>\n",
       "      <td>Minor Damage</td>\n",
       "      <td>Other</td>\n",
       "      <td>State9</td>\n",
       "      <td>City6</td>\n",
       "      <td>Location 2081</td>\n",
       "      <td>22</td>\n",
       "      <td>1</td>\n",
       "      <td>YES</td>\n",
       "      <td>2</td>\n",
       "      <td>3</td>\n",
       "      <td>NO</td>\n",
       "      <td>66243</td>\n",
       "      <td>12003</td>\n",
       "      <td>12003</td>\n",
       "      <td>42237</td>\n",
       "      <td>Volkswagen</td>\n",
       "      <td>Jetta</td>\n",
       "      <td>2003</td>\n",
       "      <td>N</td>\n",
       "    </tr>\n",
       "    <tr>\n",
       "      <th>4</th>\n",
       "      <td>29</td>\n",
       "      <td>FEMALE</td>\n",
       "      <td>0</td>\n",
       "      <td>-41500</td>\n",
       "      <td>115</td>\n",
       "      <td>1996-10-25</td>\n",
       "      <td>State2</td>\n",
       "      <td>100/300</td>\n",
       "      <td>500</td>\n",
       "      <td>1353.73</td>\n",
       "      <td>4279863</td>\n",
       "      <td>unmarried</td>\n",
       "      <td>2015-01-09</td>\n",
       "      <td>Single Vehicle Collision</td>\n",
       "      <td>Rear Collision</td>\n",
       "      <td>Minor Damage</td>\n",
       "      <td>Fire</td>\n",
       "      <td>State8</td>\n",
       "      <td>City6</td>\n",
       "      <td>Location 1695</td>\n",
       "      <td>10</td>\n",
       "      <td>1</td>\n",
       "      <td>NO</td>\n",
       "      <td>2</td>\n",
       "      <td>1</td>\n",
       "      <td>YES</td>\n",
       "      <td>53544</td>\n",
       "      <td>8829</td>\n",
       "      <td>7234</td>\n",
       "      <td>37481</td>\n",
       "      <td>Toyota</td>\n",
       "      <td>CRV</td>\n",
       "      <td>2010</td>\n",
       "      <td>N</td>\n",
       "    </tr>\n",
       "    <tr>\n",
       "      <th>5</th>\n",
       "      <td>28</td>\n",
       "      <td>FEMALE</td>\n",
       "      <td>0</td>\n",
       "      <td>-41500</td>\n",
       "      <td>101</td>\n",
       "      <td>1999-10-24</td>\n",
       "      <td>State2</td>\n",
       "      <td>100/300</td>\n",
       "      <td>500</td>\n",
       "      <td>1334.49</td>\n",
       "      <td>3921366</td>\n",
       "      <td>unmarried</td>\n",
       "      <td>2015-02-07</td>\n",
       "      <td>Single Vehicle Collision</td>\n",
       "      <td>Rear Collision</td>\n",
       "      <td>Minor Damage</td>\n",
       "      <td>Fire</td>\n",
       "      <td>State7</td>\n",
       "      <td>City6</td>\n",
       "      <td>Location 1695</td>\n",
       "      <td>7</td>\n",
       "      <td>1</td>\n",
       "      <td>NO</td>\n",
       "      <td>1</td>\n",
       "      <td>2</td>\n",
       "      <td>?</td>\n",
       "      <td>53167</td>\n",
       "      <td>7818</td>\n",
       "      <td>8132</td>\n",
       "      <td>37217</td>\n",
       "      <td>Toyota</td>\n",
       "      <td>CRV</td>\n",
       "      <td>2011</td>\n",
       "      <td>N</td>\n",
       "    </tr>\n",
       "    <tr>\n",
       "      <th>6</th>\n",
       "      <td>57</td>\n",
       "      <td>MALE</td>\n",
       "      <td>67400</td>\n",
       "      <td>0</td>\n",
       "      <td>471</td>\n",
       "      <td>1995-02-18</td>\n",
       "      <td>State3</td>\n",
       "      <td>100/300</td>\n",
       "      <td>512</td>\n",
       "      <td>1214.78</td>\n",
       "      <td>165819</td>\n",
       "      <td>own-child</td>\n",
       "      <td>2015-01-30</td>\n",
       "      <td>Single Vehicle Collision</td>\n",
       "      <td>Front Collision</td>\n",
       "      <td>Minor Damage</td>\n",
       "      <td>Ambulance</td>\n",
       "      <td>State5</td>\n",
       "      <td>City4</td>\n",
       "      <td>Location 1440</td>\n",
       "      <td>20</td>\n",
       "      <td>1</td>\n",
       "      <td>?</td>\n",
       "      <td>0</td>\n",
       "      <td>2</td>\n",
       "      <td>NO</td>\n",
       "      <td>77453</td>\n",
       "      <td>6476</td>\n",
       "      <td>12822</td>\n",
       "      <td>58155</td>\n",
       "      <td>Mercedes</td>\n",
       "      <td>C300</td>\n",
       "      <td>2000</td>\n",
       "      <td>N</td>\n",
       "    </tr>\n",
       "    <tr>\n",
       "      <th>7</th>\n",
       "      <td>49</td>\n",
       "      <td>MALE</td>\n",
       "      <td>67400</td>\n",
       "      <td>0</td>\n",
       "      <td>340</td>\n",
       "      <td>1993-02-22</td>\n",
       "      <td>State3</td>\n",
       "      <td>100/300</td>\n",
       "      <td>877</td>\n",
       "      <td>1159.81</td>\n",
       "      <td>5282219</td>\n",
       "      <td>own-child</td>\n",
       "      <td>2015-01-12</td>\n",
       "      <td>Single Vehicle Collision</td>\n",
       "      <td>Front Collision</td>\n",
       "      <td>Minor Damage</td>\n",
       "      <td>Police</td>\n",
       "      <td>State5</td>\n",
       "      <td>City3</td>\n",
       "      <td>Location 1440</td>\n",
       "      <td>18</td>\n",
       "      <td>1</td>\n",
       "      <td>?</td>\n",
       "      <td>0</td>\n",
       "      <td>2</td>\n",
       "      <td>NO</td>\n",
       "      <td>60569</td>\n",
       "      <td>5738</td>\n",
       "      <td>7333</td>\n",
       "      <td>47498</td>\n",
       "      <td>Suburu</td>\n",
       "      <td>C300</td>\n",
       "      <td>2010</td>\n",
       "      <td>N</td>\n",
       "    </tr>\n",
       "    <tr>\n",
       "      <th>8</th>\n",
       "      <td>27</td>\n",
       "      <td>FEMALE</td>\n",
       "      <td>56400</td>\n",
       "      <td>-32800</td>\n",
       "      <td>81</td>\n",
       "      <td>1998-05-09</td>\n",
       "      <td>State2</td>\n",
       "      <td>500/1000</td>\n",
       "      <td>2000</td>\n",
       "      <td>989.53</td>\n",
       "      <td>0</td>\n",
       "      <td>own-child</td>\n",
       "      <td>2015-02-06</td>\n",
       "      <td>Multi-vehicle Collision</td>\n",
       "      <td>Front Collision</td>\n",
       "      <td>Minor Damage</td>\n",
       "      <td>Ambulance</td>\n",
       "      <td>State9</td>\n",
       "      <td>City2</td>\n",
       "      <td>Location 1521</td>\n",
       "      <td>3</td>\n",
       "      <td>3</td>\n",
       "      <td>YES</td>\n",
       "      <td>0</td>\n",
       "      <td>0</td>\n",
       "      <td>?</td>\n",
       "      <td>67876</td>\n",
       "      <td>6788</td>\n",
       "      <td>7504</td>\n",
       "      <td>53584</td>\n",
       "      <td>Volkswagen</td>\n",
       "      <td>Passat</td>\n",
       "      <td>1995</td>\n",
       "      <td>N</td>\n",
       "    </tr>\n",
       "    <tr>\n",
       "      <th>9</th>\n",
       "      <td>48</td>\n",
       "      <td>MALE</td>\n",
       "      <td>53300</td>\n",
       "      <td>0</td>\n",
       "      <td>328</td>\n",
       "      <td>2014-10-17</td>\n",
       "      <td>State3</td>\n",
       "      <td>250/500</td>\n",
       "      <td>1000</td>\n",
       "      <td>1406.91</td>\n",
       "      <td>0</td>\n",
       "      <td>husband</td>\n",
       "      <td>2015-01-25</td>\n",
       "      <td>Single Vehicle Collision</td>\n",
       "      <td>Side Collision</td>\n",
       "      <td>Major Damage</td>\n",
       "      <td>Police</td>\n",
       "      <td>State7</td>\n",
       "      <td>City2</td>\n",
       "      <td>Location 1596</td>\n",
       "      <td>5</td>\n",
       "      <td>1</td>\n",
       "      <td>YES</td>\n",
       "      <td>1</td>\n",
       "      <td>2</td>\n",
       "      <td>YES</td>\n",
       "      <td>71610</td>\n",
       "      <td>6510</td>\n",
       "      <td>13020</td>\n",
       "      <td>52080</td>\n",
       "      <td>Saab</td>\n",
       "      <td>92x</td>\n",
       "      <td>2004</td>\n",
       "      <td>Y</td>\n",
       "    </tr>\n",
       "  </tbody>\n",
       "</table>\n",
       "</div>"
      ],
      "text/plain": [
       "   InsuredAge InsuredGender  CapitalGains  CapitalLoss  CustomerLoyaltyPeriod DateOfPolicyCoverage InsurancePolicyState Policy_CombinedSingleLimit  Policy_Deductible  PolicyAnnualPremium  UmbrellaLimit InsuredRelationship DateOfIncident            TypeOfIncident TypeOfCollission SeverityOfIncident AuthoritiesContacted IncidentState IncidentCity IncidentAddress  IncidentTime  NumberOfVehicles PropertyDamage  BodilyInjuries Witnesses PoliceReport AmountOfTotalClaim  AmountOfInjuryClaim  AmountOfPropertyClaim  AmountOfVehicleDamage VehicleMake VehicleModel VehicleYOM ReportedFraud\n",
       "0          35          MALE         56700       -48500                     49           1998-10-25               State1                    100/300               1000              1632.73              0       not-in-family     2015-02-03   Multi-vehicle Collision   Side Collision         Total Loss               Police        State7        City1   Location 1311            17                 3              ?               1         0            ?              65501                13417                   6071                  46013        Audi           A5       2008             N\n",
       "1          36          MALE         70600       -48500                    114           2000-11-15               State1                    100/300               1000              1255.19              0       not-in-family     2015-02-02   Multi-vehicle Collision   Side Collision         Total Loss               Police        State7        City5   Location 1311            10                 3            YES               2         1          YES              61382                15560                   5919                  39903        Audi           A5       2006             N\n",
       "2          33          MALE         66400       -63700                    167           2001-02-12               State3                   500/1000                617              1373.38              0                wife     2015-01-15  Single Vehicle Collision   Side Collision       Minor Damage                Other        State8        City6   Location 2081            22                 1            YES               2         3           NO              66755                11630                  11630                  43495  Volkswagen        Jetta       1999             N\n",
       "3          36          MALE         47900       -73400                    190           2005-04-11               State2                   500/1000                722              1337.60              0           own-child     2015-01-19  Single Vehicle Collision   Side Collision       Minor Damage                Other        State9        City6   Location 2081            22                 1            YES               2         3           NO              66243                12003                  12003                  42237  Volkswagen        Jetta       2003             N\n",
       "4          29        FEMALE             0       -41500                    115           1996-10-25               State2                    100/300                500              1353.73        4279863           unmarried     2015-01-09  Single Vehicle Collision   Rear Collision       Minor Damage                 Fire        State8        City6   Location 1695            10                 1             NO               2         1          YES              53544                 8829                   7234                  37481      Toyota          CRV       2010             N\n",
       "5          28        FEMALE             0       -41500                    101           1999-10-24               State2                    100/300                500              1334.49        3921366           unmarried     2015-02-07  Single Vehicle Collision   Rear Collision       Minor Damage                 Fire        State7        City6   Location 1695             7                 1             NO               1         2            ?              53167                 7818                   8132                  37217      Toyota          CRV       2011             N\n",
       "6          57          MALE         67400            0                    471           1995-02-18               State3                    100/300                512              1214.78         165819           own-child     2015-01-30  Single Vehicle Collision  Front Collision       Minor Damage            Ambulance        State5        City4   Location 1440            20                 1              ?               0         2           NO              77453                 6476                  12822                  58155    Mercedes         C300       2000             N\n",
       "7          49          MALE         67400            0                    340           1993-02-22               State3                    100/300                877              1159.81        5282219           own-child     2015-01-12  Single Vehicle Collision  Front Collision       Minor Damage               Police        State5        City3   Location 1440            18                 1              ?               0         2           NO              60569                 5738                   7333                  47498      Suburu         C300       2010             N\n",
       "8          27        FEMALE         56400       -32800                     81           1998-05-09               State2                   500/1000               2000               989.53              0           own-child     2015-02-06   Multi-vehicle Collision  Front Collision       Minor Damage            Ambulance        State9        City2   Location 1521             3                 3            YES               0         0            ?              67876                 6788                   7504                  53584  Volkswagen       Passat       1995             N\n",
       "9          48          MALE         53300            0                    328           2014-10-17               State3                    250/500               1000              1406.91              0             husband     2015-01-25  Single Vehicle Collision   Side Collision       Major Damage               Police        State7        City2   Location 1596             5                 1            YES               1         2          YES              71610                 6510                  13020                  52080        Saab          92x       2004             Y"
      ]
     },
     "execution_count": 207,
     "metadata": {},
     "output_type": "execute_result"
    }
   ],
   "source": [
    "final_data.head(10)"
   ]
  },
  {
   "cell_type": "markdown",
   "metadata": {},
   "source": [
    "### Categorical and numerical encoding"
   ]
  },
  {
   "cell_type": "markdown",
   "metadata": {},
   "source": [
    "#### Renaming to get a numirical data"
   ]
  },
  {
   "cell_type": "code",
   "execution_count": 208,
   "metadata": {},
   "outputs": [],
   "source": [
    "#These coulomns can be changed easily to numirecal \n",
    "final_data['IncidentState'] = final_data['IncidentState'].str.extract(r'(\\d+)').astype(int)\n",
    "final_data['IncidentCity'] = final_data['IncidentCity'].str.extract(r'(\\d+)').astype(int)\n",
    "final_data['IncidentAddress'] = final_data['IncidentAddress'].str.extract(r'(\\d+)').astype(int)\n",
    "final_data[\"InsurancePolicyState\"]= final_data['InsurancePolicyState'].str.extract(r'(\\d+)').astype(int)"
   ]
  },
  {
   "cell_type": "code",
   "execution_count": 209,
   "metadata": {},
   "outputs": [],
   "source": [
    "final_data['ReportedFraud'] = final_data['ReportedFraud'].map({'Y': 1, 'N': 0})"
   ]
  },
  {
   "cell_type": "code",
   "execution_count": 210,
   "metadata": {},
   "outputs": [
    {
     "data": {
      "text/plain": [
       "PropertyDamage\n",
       "?      10459\n",
       "NO      9687\n",
       "YES     8690\n",
       "Name: count, dtype: int64"
      ]
     },
     "execution_count": 210,
     "metadata": {},
     "output_type": "execute_result"
    }
   ],
   "source": [
    "final_data['PropertyDamage'].value_counts()"
   ]
  },
  {
   "cell_type": "code",
   "execution_count": 211,
   "metadata": {},
   "outputs": [],
   "source": [
    "#here we cant take the average for the missing data because its a catagorical data and will affect owr results , so we will treat it as a new catagory.\n",
    "final_data['PoliceReport'] = final_data['PoliceReport'].map({\n",
    "    'NO': 0,\n",
    "    'YES': 1,\n",
    "    '?': 2  # \n",
    "})\n",
    "\n",
    "final_data['PropertyDamage'] = final_data['PropertyDamage'].map({\n",
    "    'NO': 0,\n",
    "    'YES': 1,\n",
    "    '?': 2  # \n",
    "})"
   ]
  },
  {
   "cell_type": "code",
   "execution_count": null,
   "metadata": {},
   "outputs": [],
   "source": []
  },
  {
   "cell_type": "markdown",
   "metadata": {},
   "source": [
    "#### Categorical with get_dummies"
   ]
  },
  {
   "cell_type": "code",
   "execution_count": 212,
   "metadata": {},
   "outputs": [],
   "source": [
    "from sklearn.preprocessing import OneHotEncoder, OrdinalEncoder\n",
    "\n",
    "OHT_encoder = OneHotEncoder(sparse_output=False)\n",
    "ORD_encoder = OrdinalEncoder()"
   ]
  },
  {
   "cell_type": "code",
   "execution_count": 213,
   "metadata": {},
   "outputs": [],
   "source": [
    "#InsuredGender\n",
    "final_data = pd.get_dummies(final_data, columns=['InsuredGender'], prefix='Gender', drop_first=True)\n"
   ]
  },
  {
   "cell_type": "code",
   "execution_count": 214,
   "metadata": {},
   "outputs": [],
   "source": [
    "final_data = pd.get_dummies(final_data, columns=['VehicleMake'], prefix='Make', drop_first=True)\n"
   ]
  },
  {
   "cell_type": "code",
   "execution_count": 215,
   "metadata": {},
   "outputs": [],
   "source": [
    "final_data = pd.get_dummies(final_data, columns=['VehicleModel'], prefix='Model', drop_first=True)"
   ]
  },
  {
   "cell_type": "code",
   "execution_count": 216,
   "metadata": {},
   "outputs": [],
   "source": [
    "final_data = pd.get_dummies(final_data, columns=['InsuredRelationship'], prefix='Relation', drop_first=True)\n"
   ]
  },
  {
   "cell_type": "code",
   "execution_count": 217,
   "metadata": {},
   "outputs": [],
   "source": [
    "\n",
    "# Replace \"?\" and NaN with \"Unknown\" in TypeOfCollission\n",
    "final_data['TypeOfCollission'] = final_data['TypeOfCollission'].replace('?', 'Unknown').fillna('Unknown')\n",
    "\n",
    "# Also fill missing values in the other 3 columns\n",
    "final_data[['TypeOfIncident', 'SeverityOfIncident', 'AuthoritiesContacted']] = \\\n",
    "    final_data[['TypeOfIncident', 'SeverityOfIncident', 'AuthoritiesContacted']].fillna('Unknown')\n",
    "\n",
    "# One-hot encode all 4 columns\n",
    "final_data = pd.get_dummies(final_data, \n",
    "                            columns=['TypeOfIncident', 'TypeOfCollission', 'SeverityOfIncident', 'AuthoritiesContacted'], \n",
    "                            prefix=['Incident', 'Collision', 'Severity', 'Contacted'], \n",
    "                            drop_first=True)"
   ]
  },
  {
   "cell_type": "code",
   "execution_count": 218,
   "metadata": {},
   "outputs": [],
   "source": [
    "final_data['DateOfPolicyCoverage'] = pd.to_datetime(final_data['DateOfPolicyCoverage'])\n",
    "final_data['PolicyYear'] = final_data['DateOfPolicyCoverage'].dt.year\n",
    "final_data['PolicyMonth'] = final_data['DateOfPolicyCoverage'].dt.month\n",
    "final_data['PolicyDay'] = final_data['DateOfPolicyCoverage'].dt.day\n",
    "final_data.drop(columns=['DateOfPolicyCoverage'], inplace=True)"
   ]
  },
  {
   "cell_type": "code",
   "execution_count": 219,
   "metadata": {},
   "outputs": [],
   "source": [
    "# Step 1: Convert to datetime\n",
    "final_data['DateOfIncident'] = pd.to_datetime(final_data['DateOfIncident'], errors='coerce')\n",
    "\n",
    "# Step 2: Extract useful date features\n",
    "final_data['IncidentYear'] = final_data['DateOfIncident'].dt.year\n",
    "final_data['IncidentMonth'] = final_data['DateOfIncident'].dt.month\n",
    "final_data['IncidentDay'] = final_data['DateOfIncident'].dt.day\n",
    "final_data['IncidentDayOfWeek'] = final_data['DateOfIncident'].dt.dayofweek  # Monday=0, Sunday=6\n",
    "\n",
    "# Optional: Add weekend indicator\n",
    "final_data['IncidentIsWeekend'] = final_data['IncidentDayOfWeek'].isin([5, 6]).astype(int)\n",
    "\n",
    "# Step 3: Drop the original column (optional)\n",
    "final_data.drop(columns=['DateOfIncident'], inplace=True)\n"
   ]
  },
  {
   "cell_type": "markdown",
   "metadata": {},
   "source": [
    "### Imputing and Rescaling\n"
   ]
  },
  {
   "cell_type": "code",
   "execution_count": 220,
   "metadata": {},
   "outputs": [],
   "source": [
    "from sklearn.preprocessing import MinMaxScaler\n",
    "from sklearn.impute import SimpleImputer\n",
    "\n",
    "imputer = SimpleImputer()\n",
    "scaler = MinMaxScaler()"
   ]
  },
  {
   "cell_type": "markdown",
   "metadata": {},
   "source": [
    "Make sure All data are numirical"
   ]
  },
  {
   "cell_type": "code",
   "execution_count": 221,
   "metadata": {},
   "outputs": [],
   "source": [
    "final_data = final_data.astype({col: 'int' for col in final_data.columns if final_data[col].dtype == 'bool'})"
   ]
  },
  {
   "cell_type": "code",
   "execution_count": 222,
   "metadata": {},
   "outputs": [],
   "source": [
    "final_data['Policy_CombinedSingleLimit'] = final_data['Policy_CombinedSingleLimit'].apply(\n",
    "    lambda x: eval(x) if isinstance(x, str) and '/' in x else x\n",
    ")"
   ]
  },
  {
   "cell_type": "code",
   "execution_count": 225,
   "metadata": {},
   "outputs": [
    {
     "name": "stdout",
     "output_type": "stream",
     "text": [
      "['Policy_CombinedSingleLimit', 'PolicyAnnualPremium', 'Witnesses', 'AmountOfTotalClaim']\n"
     ]
    }
   ],
   "source": [
    "non_int_cols = [col for col in final_data.columns if not pd.api.types.is_integer_dtype(final_data[col])]\n",
    "print(non_int_cols)"
   ]
  },
  {
   "cell_type": "code",
   "execution_count": 224,
   "metadata": {},
   "outputs": [],
   "source": [
    "for col in non_int_cols:\n",
    "    final_data[col] = pd.to_numeric(final_data[col], errors='coerce')\n"
   ]
  },
  {
   "cell_type": "code",
   "execution_count": 226,
   "metadata": {},
   "outputs": [
    {
     "name": "stdout",
     "output_type": "stream",
     "text": [
      "Policy_CombinedSingleLimit: float64\n",
      "PolicyAnnualPremium: float64\n",
      "Witnesses: float64\n",
      "AmountOfTotalClaim: float64\n"
     ]
    }
   ],
   "source": [
    "for col in non_int_cols:\n",
    "    print(f\"{col}: {final_data[col].dtype}\")"
   ]
  },
  {
   "cell_type": "markdown",
   "metadata": {},
   "source": [
    "#### Imputing"
   ]
  },
  {
   "cell_type": "code",
   "execution_count": 227,
   "metadata": {},
   "outputs": [],
   "source": [
    "imputer = SimpleImputer(strategy='mean')\n",
    "final_data = pd.DataFrame(imputer.fit_transform(final_data), columns=final_data.columns)"
   ]
  },
  {
   "cell_type": "markdown",
   "metadata": {},
   "source": [
    "#### Rescaling"
   ]
  },
  {
   "cell_type": "code",
   "execution_count": 229,
   "metadata": {},
   "outputs": [],
   "source": [
    "scaler = MinMaxScaler()\n",
    "final_data = pd.DataFrame(scaler.fit_transform(final_data), columns=final_data.columns)"
   ]
  },
  {
   "cell_type": "code",
   "execution_count": 237,
   "metadata": {},
   "outputs": [
    {
     "name": "stdout",
     "output_type": "stream",
     "text": [
      "ReportedFraud\n",
      "0.0    21051\n",
      "1.0     7785\n",
      "Name: count, dtype: int64\n"
     ]
    }
   ],
   "source": [
    "print(final_data[\"ReportedFraud\"].value_counts())\n"
   ]
  },
  {
   "cell_type": "code",
   "execution_count": 239,
   "metadata": {},
   "outputs": [
    {
     "data": {
      "text/plain": [
       "ReportedFraud\n",
       "N    21051\n",
       "Y     7785\n",
       "Name: count, dtype: int64"
      ]
     },
     "execution_count": 239,
     "metadata": {},
     "output_type": "execute_result"
    }
   ],
   "source": [
    "Traindata_with_Target[\"ReportedFraud\"].value_counts()"
   ]
  },
  {
   "attachments": {},
   "cell_type": "markdown",
   "metadata": {},
   "source": [
    "## 4. Technique 1\n",
    "**Create a new subheading for each stage that you do from the following items. Enter your code in the cells below the subheading.**\n",
    "\n",
    "- Motivation for choosing the technique and schematic figure of the analysis process (100-200 words)\n",
    "- Setting hyperparameters (rationale)\n",
    "- Optimising the hyperparameters appropriately\n",
    "- Performance metrics for training set\n",
    "- Other items necessary for the technique\n",
    "- Deal with class imbalance, if necessary, if not done above"
   ]
  },
  {
   "cell_type": "markdown",
   "metadata": {},
   "source": [
    "### 4.1 Motivation for choosing the technique and schematic figure of the analysis process"
   ]
  },
  {
   "cell_type": "markdown",
   "metadata": {},
   "source": [
    "Logistic Regression"
   ]
  },
  {
   "cell_type": "markdown",
   "metadata": {},
   "source": []
  },
  {
   "cell_type": "markdown",
   "metadata": {},
   "source": [
    "### Setting hyperparameters (rationale)"
   ]
  },
  {
   "cell_type": "code",
   "execution_count": null,
   "metadata": {},
   "outputs": [],
   "source": []
  },
  {
   "attachments": {},
   "cell_type": "markdown",
   "metadata": {},
   "source": [
    "## 5. Technique 2\n",
    "**Create a new subheading for each stage that you do from the following items. Enter your code in the cells below the subheading.**\n",
    "\n",
    "- Motivation for choosing the technique and schematic figure of the analysis process (100-200 words)\n",
    "- Setting hyperparameters (rationale)\n",
    "- Optimising the hyperparameters appropriately\n",
    "- Performance metrics for training set\n",
    "- Other items necessary for the technique\n",
    "- Deal with class imbalance, if necessary, if not done above"
   ]
  },
  {
   "cell_type": "markdown",
   "metadata": {},
   "source": [
    "### 5.1 Motivation for choosing the technique and schematic figure of the analysis process"
   ]
  },
  {
   "cell_type": "markdown",
   "metadata": {},
   "source": []
  },
  {
   "cell_type": "markdown",
   "metadata": {},
   "source": []
  },
  {
   "cell_type": "markdown",
   "metadata": {},
   "source": [
    "### Setting hyperparameters (rationale)"
   ]
  },
  {
   "cell_type": "code",
   "execution_count": null,
   "metadata": {},
   "outputs": [],
   "source": []
  },
  {
   "attachments": {},
   "cell_type": "markdown",
   "metadata": {},
   "source": [
    "## 6. Comparison of metrics performance for testing\n",
    "\n",
    "**Create a new subheading for each stage that you do from the following items. Enter your code in the cells below the subheading.**\n",
    "\n",
    "- Use of nested cross-validation for both techniques to deal with overfitting model selection and model comparison\n",
    "- Use appropriate metrics for the testing set\n",
    "- Use an appropriate model selection visualisation curve (ROC, PR, etc.) that is suitable for the problem at hand\n",
    "- Checking for overfitting"
   ]
  },
  {
   "cell_type": "code",
   "execution_count": null,
   "metadata": {},
   "outputs": [],
   "source": []
  },
  {
   "attachments": {},
   "cell_type": "markdown",
   "metadata": {},
   "source": [
    "## 7. Final recommendation of the best model\n",
    "\n",
    "**Create a new subheading for each item you discuss from the following items.**\n",
    "\n",
    "- Technical perspective- overfitting discussion, complexity and efficiency\n",
    "- Business perspective- results interpretation, relevance and balance with a technical perspective"
   ]
  },
  {
   "cell_type": "markdown",
   "metadata": {},
   "source": []
  },
  {
   "attachments": {},
   "cell_type": "markdown",
   "metadata": {},
   "source": [
    "## 8. Conclusion\n",
    "\n",
    "**Create a new subheading for each item you discuss from the following items.**\n",
    "\n",
    "- What has been successfully accomplished and what has not\n",
    "- Reflect back on the analysis and see what you could have done differently if you were to do the project again\n",
    "- Add a wish list of future work that you would do to take the project forward\n"
   ]
  },
  {
   "cell_type": "code",
   "execution_count": null,
   "metadata": {},
   "outputs": [],
   "source": []
  }
 ],
 "metadata": {
  "kernelspec": {
   "display_name": "Python 3",
   "language": "python",
   "name": "python3"
  },
  "language_info": {
   "codemirror_mode": {
    "name": "ipython",
    "version": 3
   },
   "file_extension": ".py",
   "mimetype": "text/x-python",
   "name": "python",
   "nbconvert_exporter": "python",
   "pygments_lexer": "ipython3",
   "version": "3.13.1"
  }
 },
 "nbformat": 4,
 "nbformat_minor": 4
}
